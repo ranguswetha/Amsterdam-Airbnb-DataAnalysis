{
 "cells": [
  {
   "cell_type": "markdown",
   "metadata": {},
   "source": [
    "# Introduction\n",
    "\n",
    "Airbnb has seen a meteoric growth since its inception in 2008 with number of rentals listed on its website growing exponentially each year. Airbnb has successfully disrupted the traditional hospitality industry as more and more travellers, not just the ones who tend to take break from their work but also business travellers resort to Airbnb as their premier accomodation provider."
   ]
  },
  {
   "cell_type": "markdown",
   "metadata": {},
   "source": [
    "<img src='https://insidenanabreadshead.files.wordpress.com/2010/12/amsterdam-i-amsterdam.jpg'></img>"
   ]
  },
  {
   "cell_type": "code",
   "execution_count": 2,
   "metadata": {},
   "outputs": [],
   "source": [
    "import numpy as np\n",
    "import pandas as pd"
   ]
  },
  {
   "cell_type": "markdown",
   "metadata": {},
   "source": [
    "# 1. Business Understanding\n",
    "\n",
    "Here I have considered Amsterdam Airbnb dataset and did analysis using data visualizations with help of ofllowing questions.\n",
    "\n",
    "1. Average price of listings based on bedroom type\n",
    "2. Which is the most preferred neighborhood in amsterdam on user reviews.\n",
    "3. Which neighborhood have highest rental prices.\n",
    "4. What time of year has highest rental prices?\n"
   ]
  },
  {
   "cell_type": "code",
   "execution_count": null,
   "metadata": {},
   "outputs": [],
   "source": []
  },
  {
   "cell_type": "markdown",
   "metadata": {},
   "source": [
    "# 2. Data Understanding\n",
    "\n",
    "In this we will load the data and check for for their shape and properties. We will also clean few columns which we will using on our analysis further down.\n",
    "\n",
    "\n",
    "There are lot many other columns but i'm particularly interested in looking at bedrooms column and how they are related to price of the listings."
   ]
  },
  {
   "cell_type": "code",
   "execution_count": 3,
   "metadata": {},
   "outputs": [],
   "source": [
    "#Read Listings CSV file into Dataframe\n",
    "\n",
    "listings = pd.read_csv(\"listings.csv\", low_memory= False)\n",
    "calendar = pd.read_csv(\"calendar.csv.gz\")"
   ]
  },
  {
   "cell_type": "code",
   "execution_count": 20,
   "metadata": {
    "scrolled": true
   },
   "outputs": [
    {
     "data": {
      "text/html": [
       "<div>\n",
       "<style scoped>\n",
       "    .dataframe tbody tr th:only-of-type {\n",
       "        vertical-align: middle;\n",
       "    }\n",
       "\n",
       "    .dataframe tbody tr th {\n",
       "        vertical-align: top;\n",
       "    }\n",
       "\n",
       "    .dataframe thead th {\n",
       "        text-align: right;\n",
       "    }\n",
       "</style>\n",
       "<table border=\"1\" class=\"dataframe\">\n",
       "  <thead>\n",
       "    <tr style=\"text-align: right;\">\n",
       "      <th></th>\n",
       "      <th>id</th>\n",
       "      <th>listing_url</th>\n",
       "      <th>scrape_id</th>\n",
       "      <th>last_scraped</th>\n",
       "      <th>name</th>\n",
       "      <th>summary</th>\n",
       "      <th>space</th>\n",
       "      <th>description</th>\n",
       "      <th>experiences_offered</th>\n",
       "      <th>neighborhood_overview</th>\n",
       "      <th>...</th>\n",
       "      <th>instant_bookable</th>\n",
       "      <th>is_business_travel_ready</th>\n",
       "      <th>cancellation_policy</th>\n",
       "      <th>require_guest_profile_picture</th>\n",
       "      <th>require_guest_phone_verification</th>\n",
       "      <th>calculated_host_listings_count</th>\n",
       "      <th>calculated_host_listings_count_entire_homes</th>\n",
       "      <th>calculated_host_listings_count_private_rooms</th>\n",
       "      <th>calculated_host_listings_count_shared_rooms</th>\n",
       "      <th>reviews_per_month</th>\n",
       "    </tr>\n",
       "  </thead>\n",
       "  <tbody>\n",
       "    <tr>\n",
       "      <th>0</th>\n",
       "      <td>2818</td>\n",
       "      <td>https://www.airbnb.com/rooms/2818</td>\n",
       "      <td>20200709134403</td>\n",
       "      <td>2020-07-10</td>\n",
       "      <td>Quiet Garden View Room &amp; Super Fast WiFi</td>\n",
       "      <td>Quiet Garden View Room &amp; Super Fast WiFi</td>\n",
       "      <td>I'm renting a bedroom (room overlooking the ga...</td>\n",
       "      <td>Quiet Garden View Room &amp; Super Fast WiFi I'm r...</td>\n",
       "      <td>none</td>\n",
       "      <td>Indische Buurt (\"Indies Neighborhood\") is a ne...</td>\n",
       "      <td>...</td>\n",
       "      <td>t</td>\n",
       "      <td>f</td>\n",
       "      <td>strict_14_with_grace_period</td>\n",
       "      <td>f</td>\n",
       "      <td>f</td>\n",
       "      <td>1</td>\n",
       "      <td>0</td>\n",
       "      <td>1</td>\n",
       "      <td>0</td>\n",
       "      <td>2.02</td>\n",
       "    </tr>\n",
       "    <tr>\n",
       "      <th>1</th>\n",
       "      <td>20168</td>\n",
       "      <td>https://www.airbnb.com/rooms/20168</td>\n",
       "      <td>20200709134403</td>\n",
       "      <td>2020-07-10</td>\n",
       "      <td>Studio with private bathroom in the centre 1</td>\n",
       "      <td>17th century Dutch townhouse in the heart of t...</td>\n",
       "      <td>For those who like all facets of city life. In...</td>\n",
       "      <td>17th century Dutch townhouse in the heart of t...</td>\n",
       "      <td>none</td>\n",
       "      <td>Located just in between famous central canals....</td>\n",
       "      <td>...</td>\n",
       "      <td>t</td>\n",
       "      <td>f</td>\n",
       "      <td>strict_14_with_grace_period</td>\n",
       "      <td>f</td>\n",
       "      <td>f</td>\n",
       "      <td>2</td>\n",
       "      <td>0</td>\n",
       "      <td>2</td>\n",
       "      <td>0</td>\n",
       "      <td>2.70</td>\n",
       "    </tr>\n",
       "    <tr>\n",
       "      <th>2</th>\n",
       "      <td>25428</td>\n",
       "      <td>https://www.airbnb.com/rooms/25428</td>\n",
       "      <td>20200709134403</td>\n",
       "      <td>2020-07-10</td>\n",
       "      <td>Lovely apt in City Centre (w.lift) near Jordaan</td>\n",
       "      <td>Lovely apt in Centre ( lift &amp; fireplace) near ...</td>\n",
       "      <td>This nicely furnished, newly renovated apt  is...</td>\n",
       "      <td>Lovely apt in Centre ( lift &amp; fireplace) near ...</td>\n",
       "      <td>none</td>\n",
       "      <td>NaN</td>\n",
       "      <td>...</td>\n",
       "      <td>f</td>\n",
       "      <td>f</td>\n",
       "      <td>strict_14_with_grace_period</td>\n",
       "      <td>f</td>\n",
       "      <td>f</td>\n",
       "      <td>1</td>\n",
       "      <td>1</td>\n",
       "      <td>0</td>\n",
       "      <td>0</td>\n",
       "      <td>0.17</td>\n",
       "    </tr>\n",
       "    <tr>\n",
       "      <th>3</th>\n",
       "      <td>27886</td>\n",
       "      <td>https://www.airbnb.com/rooms/27886</td>\n",
       "      <td>20200709134403</td>\n",
       "      <td>2020-07-10</td>\n",
       "      <td>Romantic, stylish B&amp;B houseboat in canal district</td>\n",
       "      <td>Stylish and romantic houseboat on fantastic hi...</td>\n",
       "      <td>For a romantic couple: A beautifully restored ...</td>\n",
       "      <td>Stylish and romantic houseboat on fantastic hi...</td>\n",
       "      <td>none</td>\n",
       "      <td>Central, quiet, safe, clean and beautiful.</td>\n",
       "      <td>...</td>\n",
       "      <td>t</td>\n",
       "      <td>f</td>\n",
       "      <td>strict_14_with_grace_period</td>\n",
       "      <td>f</td>\n",
       "      <td>f</td>\n",
       "      <td>1</td>\n",
       "      <td>0</td>\n",
       "      <td>1</td>\n",
       "      <td>0</td>\n",
       "      <td>2.10</td>\n",
       "    </tr>\n",
       "    <tr>\n",
       "      <th>4</th>\n",
       "      <td>31080</td>\n",
       "      <td>https://www.airbnb.com/rooms/31080</td>\n",
       "      <td>20200709134403</td>\n",
       "      <td>2020-07-10</td>\n",
       "      <td>2-story apartment + rooftop terrace</td>\n",
       "      <td>NaN</td>\n",
       "      <td>My apartment is light and cosy.  The three bed...</td>\n",
       "      <td>My apartment is light and cosy.  The three bed...</td>\n",
       "      <td>none</td>\n",
       "      <td>NaN</td>\n",
       "      <td>...</td>\n",
       "      <td>f</td>\n",
       "      <td>f</td>\n",
       "      <td>moderate</td>\n",
       "      <td>f</td>\n",
       "      <td>f</td>\n",
       "      <td>1</td>\n",
       "      <td>1</td>\n",
       "      <td>0</td>\n",
       "      <td>0</td>\n",
       "      <td>0.29</td>\n",
       "    </tr>\n",
       "  </tbody>\n",
       "</table>\n",
       "<p>5 rows × 106 columns</p>\n",
       "</div>"
      ],
      "text/plain": [
       "      id                         listing_url       scrape_id last_scraped  \\\n",
       "0   2818   https://www.airbnb.com/rooms/2818  20200709134403   2020-07-10   \n",
       "1  20168  https://www.airbnb.com/rooms/20168  20200709134403   2020-07-10   \n",
       "2  25428  https://www.airbnb.com/rooms/25428  20200709134403   2020-07-10   \n",
       "3  27886  https://www.airbnb.com/rooms/27886  20200709134403   2020-07-10   \n",
       "4  31080  https://www.airbnb.com/rooms/31080  20200709134403   2020-07-10   \n",
       "\n",
       "                                                name  \\\n",
       "0           Quiet Garden View Room & Super Fast WiFi   \n",
       "1       Studio with private bathroom in the centre 1   \n",
       "2    Lovely apt in City Centre (w.lift) near Jordaan   \n",
       "3  Romantic, stylish B&B houseboat in canal district   \n",
       "4                2-story apartment + rooftop terrace   \n",
       "\n",
       "                                             summary  \\\n",
       "0           Quiet Garden View Room & Super Fast WiFi   \n",
       "1  17th century Dutch townhouse in the heart of t...   \n",
       "2  Lovely apt in Centre ( lift & fireplace) near ...   \n",
       "3  Stylish and romantic houseboat on fantastic hi...   \n",
       "4                                                NaN   \n",
       "\n",
       "                                               space  \\\n",
       "0  I'm renting a bedroom (room overlooking the ga...   \n",
       "1  For those who like all facets of city life. In...   \n",
       "2  This nicely furnished, newly renovated apt  is...   \n",
       "3  For a romantic couple: A beautifully restored ...   \n",
       "4  My apartment is light and cosy.  The three bed...   \n",
       "\n",
       "                                         description experiences_offered  \\\n",
       "0  Quiet Garden View Room & Super Fast WiFi I'm r...                none   \n",
       "1  17th century Dutch townhouse in the heart of t...                none   \n",
       "2  Lovely apt in Centre ( lift & fireplace) near ...                none   \n",
       "3  Stylish and romantic houseboat on fantastic hi...                none   \n",
       "4  My apartment is light and cosy.  The three bed...                none   \n",
       "\n",
       "                               neighborhood_overview  ... instant_bookable  \\\n",
       "0  Indische Buurt (\"Indies Neighborhood\") is a ne...  ...                t   \n",
       "1  Located just in between famous central canals....  ...                t   \n",
       "2                                                NaN  ...                f   \n",
       "3         Central, quiet, safe, clean and beautiful.  ...                t   \n",
       "4                                                NaN  ...                f   \n",
       "\n",
       "  is_business_travel_ready          cancellation_policy  \\\n",
       "0                        f  strict_14_with_grace_period   \n",
       "1                        f  strict_14_with_grace_period   \n",
       "2                        f  strict_14_with_grace_period   \n",
       "3                        f  strict_14_with_grace_period   \n",
       "4                        f                     moderate   \n",
       "\n",
       "  require_guest_profile_picture require_guest_phone_verification  \\\n",
       "0                             f                                f   \n",
       "1                             f                                f   \n",
       "2                             f                                f   \n",
       "3                             f                                f   \n",
       "4                             f                                f   \n",
       "\n",
       "   calculated_host_listings_count  \\\n",
       "0                               1   \n",
       "1                               2   \n",
       "2                               1   \n",
       "3                               1   \n",
       "4                               1   \n",
       "\n",
       "   calculated_host_listings_count_entire_homes  \\\n",
       "0                                            0   \n",
       "1                                            0   \n",
       "2                                            1   \n",
       "3                                            0   \n",
       "4                                            1   \n",
       "\n",
       "  calculated_host_listings_count_private_rooms  \\\n",
       "0                                            1   \n",
       "1                                            2   \n",
       "2                                            0   \n",
       "3                                            1   \n",
       "4                                            0   \n",
       "\n",
       "   calculated_host_listings_count_shared_rooms  reviews_per_month  \n",
       "0                                            0               2.02  \n",
       "1                                            0               2.70  \n",
       "2                                            0               0.17  \n",
       "3                                            0               2.10  \n",
       "4                                            0               0.29  \n",
       "\n",
       "[5 rows x 106 columns]"
      ]
     },
     "execution_count": 20,
     "metadata": {},
     "output_type": "execute_result"
    }
   ],
   "source": [
    "listings.shape\n",
    "listings.head()"
   ]
  },
  {
   "cell_type": "code",
   "execution_count": null,
   "metadata": {},
   "outputs": [],
   "source": []
  },
  {
   "cell_type": "markdown",
   "metadata": {},
   "source": [
    "# 3. Data Preparation\n",
    "\n",
    "Clean price column in both datasets to remove $ sign and change the datatype to float.\n",
    "\n",
    "We are considering columns listings with price > 0 and number of reviews more than 0.\n",
    "\n",
    "function to calculate average values for the column"
   ]
  },
  {
   "cell_type": "code",
   "execution_count": 14,
   "metadata": {},
   "outputs": [],
   "source": [
    "# we are creating function here to clean price column in both datasets\n",
    "\n",
    "def clean_price( x ):\n",
    "    ''' Cleans price by removing '$' sign.,\n",
    "        and change datatype to float.\n",
    "    '''\n",
    "    return(x.replace('[\\$,]','', regex= True).astype(float))\n",
    "\n",
    "\n",
    "# function to calculate mean values in column2 grouping by column1\n",
    "\n",
    "def get_grp_mean( df ):\n",
    "    \n",
    "    ''' group by column X and return col y.\n",
    "    '''\n",
    "    \n",
    "    df.columns = ['x','y']\n",
    "    df = df.groupby(['x']).y.mean()\n",
    "    df = df.reset_index()\n",
    "    return(df.sort_values('y', ascending= [0]))\n",
    "\n",
    "\n",
    "#clean price column and only consider ones with >0\n",
    "listings.price = clean_price(listings.price)\n",
    "listings = listings[listings.price >0]\n",
    "\n",
    "listings = listings[listings.number_of_reviews >0]\n",
    "\n",
    "calendar.price = clean_price(calendar.price)\n",
    "calendar = calendar[calendar.price >0]"
   ]
  },
  {
   "cell_type": "code",
   "execution_count": 42,
   "metadata": {},
   "outputs": [
    {
     "data": {
      "text/plain": [
       "1.0     11537\n",
       "2.0      4641\n",
       "3.0      1639\n",
       "0.0      1018\n",
       "4.0       485\n",
       "5.0        78\n",
       "6.0        12\n",
       "12.0        6\n",
       "8.0         5\n",
       "7.0         3\n",
       "10.0        3\n",
       "9.0         3\n",
       "11.0        1\n",
       "Name: bedrooms, dtype: int64"
      ]
     },
     "execution_count": 42,
     "metadata": {},
     "output_type": "execute_result"
    }
   ],
   "source": [
    "bedrooms_val_counts = listings.bedrooms.value_counts()\n",
    "\n",
    "bedrooms_val_counts"
   ]
  },
  {
   "cell_type": "code",
   "execution_count": 43,
   "metadata": {},
   "outputs": [
    {
     "data": {
      "text/plain": [
       "<matplotlib.axes._subplots.AxesSubplot at 0x7faba88e0610>"
      ]
     },
     "execution_count": 43,
     "metadata": {},
     "output_type": "execute_result"
    },
    {
     "data": {
      "image/png": "[encoded data removed]",
      "text/plain": [
       "<Figure size 864x432 with 1 Axes>"
      ]
     },
     "metadata": {
      "needs_background": "light"
     },
     "output_type": "display_data"
    }
   ],
   "source": [
    "#we can bar chart them for better understanding.\n",
    "\n",
    "bedrooms_val_counts.sort_index().plot.bar(figsize = (12,6))"
   ]
  },
  {
   "cell_type": "code",
   "execution_count": 104,
   "metadata": {},
   "outputs": [
    {
     "data": {
      "text/html": [
       "<div>\n",
       "<style scoped>\n",
       "    .dataframe tbody tr th:only-of-type {\n",
       "        vertical-align: middle;\n",
       "    }\n",
       "\n",
       "    .dataframe tbody tr th {\n",
       "        vertical-align: top;\n",
       "    }\n",
       "\n",
       "    .dataframe thead th {\n",
       "        text-align: right;\n",
       "    }\n",
       "</style>\n",
       "<table border=\"1\" class=\"dataframe\">\n",
       "  <thead>\n",
       "    <tr style=\"text-align: right;\">\n",
       "      <th></th>\n",
       "      <th>count</th>\n",
       "      <th>mean</th>\n",
       "      <th>std</th>\n",
       "      <th>min</th>\n",
       "      <th>25%</th>\n",
       "      <th>50%</th>\n",
       "      <th>75%</th>\n",
       "      <th>max</th>\n",
       "    </tr>\n",
       "    <tr>\n",
       "      <th>bedrooms</th>\n",
       "      <th></th>\n",
       "      <th></th>\n",
       "      <th></th>\n",
       "      <th></th>\n",
       "      <th></th>\n",
       "      <th></th>\n",
       "      <th></th>\n",
       "      <th></th>\n",
       "    </tr>\n",
       "  </thead>\n",
       "  <tbody>\n",
       "    <tr>\n",
       "      <th>0.0</th>\n",
       "      <td>873.0</td>\n",
       "      <td>119.797251</td>\n",
       "      <td>176.359474</td>\n",
       "      <td>25.0</td>\n",
       "      <td>85.0</td>\n",
       "      <td>100.0</td>\n",
       "      <td>130.00</td>\n",
       "      <td>5040.0</td>\n",
       "    </tr>\n",
       "    <tr>\n",
       "      <th>1.0</th>\n",
       "      <td>10133.0</td>\n",
       "      <td>130.869831</td>\n",
       "      <td>189.515351</td>\n",
       "      <td>5.0</td>\n",
       "      <td>90.0</td>\n",
       "      <td>115.0</td>\n",
       "      <td>150.00</td>\n",
       "      <td>9000.0</td>\n",
       "    </tr>\n",
       "    <tr>\n",
       "      <th>2.0</th>\n",
       "      <td>4021.0</td>\n",
       "      <td>193.312111</td>\n",
       "      <td>99.690692</td>\n",
       "      <td>9.0</td>\n",
       "      <td>130.0</td>\n",
       "      <td>175.0</td>\n",
       "      <td>230.00</td>\n",
       "      <td>1750.0</td>\n",
       "    </tr>\n",
       "    <tr>\n",
       "      <th>3.0</th>\n",
       "      <td>1380.0</td>\n",
       "      <td>230.613768</td>\n",
       "      <td>164.755558</td>\n",
       "      <td>42.0</td>\n",
       "      <td>150.0</td>\n",
       "      <td>200.0</td>\n",
       "      <td>270.00</td>\n",
       "      <td>4500.0</td>\n",
       "    </tr>\n",
       "    <tr>\n",
       "      <th>4.0</th>\n",
       "      <td>393.0</td>\n",
       "      <td>279.167939</td>\n",
       "      <td>158.169317</td>\n",
       "      <td>35.0</td>\n",
       "      <td>175.0</td>\n",
       "      <td>249.0</td>\n",
       "      <td>325.00</td>\n",
       "      <td>1150.0</td>\n",
       "    </tr>\n",
       "    <tr>\n",
       "      <th>5.0</th>\n",
       "      <td>66.0</td>\n",
       "      <td>366.015152</td>\n",
       "      <td>269.296890</td>\n",
       "      <td>89.0</td>\n",
       "      <td>198.5</td>\n",
       "      <td>300.0</td>\n",
       "      <td>443.75</td>\n",
       "      <td>2000.0</td>\n",
       "    </tr>\n",
       "    <tr>\n",
       "      <th>6.0</th>\n",
       "      <td>8.0</td>\n",
       "      <td>466.000000</td>\n",
       "      <td>171.404284</td>\n",
       "      <td>65.0</td>\n",
       "      <td>490.0</td>\n",
       "      <td>496.5</td>\n",
       "      <td>512.50</td>\n",
       "      <td>650.0</td>\n",
       "    </tr>\n",
       "    <tr>\n",
       "      <th>7.0</th>\n",
       "      <td>3.0</td>\n",
       "      <td>433.000000</td>\n",
       "      <td>300.860433</td>\n",
       "      <td>124.0</td>\n",
       "      <td>287.0</td>\n",
       "      <td>450.0</td>\n",
       "      <td>587.50</td>\n",
       "      <td>725.0</td>\n",
       "    </tr>\n",
       "    <tr>\n",
       "      <th>8.0</th>\n",
       "      <td>4.0</td>\n",
       "      <td>575.000000</td>\n",
       "      <td>217.485632</td>\n",
       "      <td>440.0</td>\n",
       "      <td>470.0</td>\n",
       "      <td>480.0</td>\n",
       "      <td>585.00</td>\n",
       "      <td>900.0</td>\n",
       "    </tr>\n",
       "    <tr>\n",
       "      <th>9.0</th>\n",
       "      <td>3.0</td>\n",
       "      <td>368.000000</td>\n",
       "      <td>266.585821</td>\n",
       "      <td>62.0</td>\n",
       "      <td>277.0</td>\n",
       "      <td>492.0</td>\n",
       "      <td>521.00</td>\n",
       "      <td>550.0</td>\n",
       "    </tr>\n",
       "    <tr>\n",
       "      <th>10.0</th>\n",
       "      <td>3.0</td>\n",
       "      <td>548.000000</td>\n",
       "      <td>222.243110</td>\n",
       "      <td>380.0</td>\n",
       "      <td>422.0</td>\n",
       "      <td>464.0</td>\n",
       "      <td>632.00</td>\n",
       "      <td>800.0</td>\n",
       "    </tr>\n",
       "    <tr>\n",
       "      <th>12.0</th>\n",
       "      <td>6.0</td>\n",
       "      <td>200.000000</td>\n",
       "      <td>293.938769</td>\n",
       "      <td>80.0</td>\n",
       "      <td>80.0</td>\n",
       "      <td>80.0</td>\n",
       "      <td>80.00</td>\n",
       "      <td>800.0</td>\n",
       "    </tr>\n",
       "  </tbody>\n",
       "</table>\n",
       "</div>"
      ],
      "text/plain": [
       "            count        mean         std    min    25%    50%     75%     max\n",
       "bedrooms                                                                      \n",
       "0.0         873.0  119.797251  176.359474   25.0   85.0  100.0  130.00  5040.0\n",
       "1.0       10133.0  130.869831  189.515351    5.0   90.0  115.0  150.00  9000.0\n",
       "2.0        4021.0  193.312111   99.690692    9.0  130.0  175.0  230.00  1750.0\n",
       "3.0        1380.0  230.613768  164.755558   42.0  150.0  200.0  270.00  4500.0\n",
       "4.0         393.0  279.167939  158.169317   35.0  175.0  249.0  325.00  1150.0\n",
       "5.0          66.0  366.015152  269.296890   89.0  198.5  300.0  443.75  2000.0\n",
       "6.0           8.0  466.000000  171.404284   65.0  490.0  496.5  512.50   650.0\n",
       "7.0           3.0  433.000000  300.860433  124.0  287.0  450.0  587.50   725.0\n",
       "8.0           4.0  575.000000  217.485632  440.0  470.0  480.0  585.00   900.0\n",
       "9.0           3.0  368.000000  266.585821   62.0  277.0  492.0  521.00   550.0\n",
       "10.0          3.0  548.000000  222.243110  380.0  422.0  464.0  632.00   800.0\n",
       "12.0          6.0  200.000000  293.938769   80.0   80.0   80.0   80.00   800.0"
      ]
     },
     "execution_count": 104,
     "metadata": {},
     "output_type": "execute_result"
    }
   ],
   "source": [
    "#now lets look at how the listings with various bedroom counts are priced.\n",
    "\n",
    "bedrooms = listings.groupby('bedrooms')\n",
    "bedrooms[\"price\"].describe()"
   ]
  },
  {
   "cell_type": "markdown",
   "metadata": {},
   "source": [
    "# 1. Average Price of listings by Bedroom\n",
    "\n",
    "lets now look at bar chart of the average price of the listings grouped by bedroom"
   ]
  },
  {
   "cell_type": "code",
   "execution_count": 105,
   "metadata": {},
   "outputs": [
    {
     "data": {
      "image/png": "[encoded data removed]",
      "text/plain": [
       "<Figure size 864x432 with 1 Axes>"
      ]
     },
     "metadata": {
      "needs_background": "light"
     },
     "output_type": "display_data"
    }
   ],
   "source": [
    "import matplotlib.pyplot as plt\n",
    "\n",
    "N = 13\n",
    "cmap = plt.cm.tab10\n",
    "colors = cmap(np.arange(len(bedrooms)) % cmap.N)\n",
    "bedrooms.mean().plot.bar(y='price', figsize = (12,6),color= colors)\n",
    "\n",
    "plt.show()"
   ]
  },
  {
   "cell_type": "markdown",
   "metadata": {},
   "source": [
    "\n",
    "\n",
    "Graph looks okay but doesnt exactly follow our intuition about how price should go up with bedroom count. we can see that 0 bedroom (couldbe studio listings) have an average price that is almost equal to single bedroom listings.\n",
    "\n",
    "studio listings being only lodges for single person so the prices for 1bedroom and Studios could almost be same.\n",
    "Average price listed for 11BD is low and can be removed from analysis for better understanding as there is only one listing avaiable with 11BD."
   ]
  },
  {
   "cell_type": "code",
   "execution_count": null,
   "metadata": {},
   "outputs": [],
   "source": []
  },
  {
   "cell_type": "markdown",
   "metadata": {},
   "source": [
    "# 2. Most Preferred neighborhood based on reviews\n",
    "\n",
    "We are grouping by neighborhood and calculating average number of reviews for the available listings"
   ]
  },
  {
   "cell_type": "code",
   "execution_count": 94,
   "metadata": {},
   "outputs": [
    {
     "data": {
      "text/plain": [
       "<matplotlib.axes._subplots.AxesSubplot at 0x7fab7b4e0e80>"
      ]
     },
     "execution_count": 94,
     "metadata": {},
     "output_type": "execute_result"
    },
    {
     "data": {
      "image/png": "[encoded data removed]",
      "text/plain": [
       "<Figure size 864x432 with 1 Axes>"
      ]
     },
     "metadata": {
      "needs_background": "light"
     },
     "output_type": "display_data"
    }
   ],
   "source": [
    "rev_df = get_grp_mean(listings[['neighbourhood','number_of_reviews']])\n",
    "\n",
    "rev_df.head(15).plot.bar(x = 'x',y = 'y',figsize = (12,6),color =colors)"
   ]
  },
  {
   "cell_type": "markdown",
   "metadata": {},
   "source": [
    "\n",
    "\n",
    "De Wallen and Amsterdam Centrum neighbourhoods got more number of reviews and looks like preferred by more number of users."
   ]
  },
  {
   "cell_type": "code",
   "execution_count": null,
   "metadata": {},
   "outputs": [],
   "source": []
  },
  {
   "cell_type": "markdown",
   "metadata": {},
   "source": [
    "# 3. Neighborhood with highest rental prices."
   ]
  },
  {
   "cell_type": "code",
   "execution_count": 107,
   "metadata": {},
   "outputs": [
    {
     "data": {
      "text/plain": [
       "<matplotlib.axes._subplots.AxesSubplot at 0x7fab65b4fca0>"
      ]
     },
     "execution_count": 107,
     "metadata": {},
     "output_type": "execute_result"
    },
    {
     "data": {
      "image/png": "[encoded data removed]",
      "text/plain": [
       "<Figure size 864x432 with 1 Axes>"
      ]
     },
     "metadata": {
      "needs_background": "light"
     },
     "output_type": "display_data"
    }
   ],
   "source": [
    "# Neighbourhoods with highest price\n",
    "price_df = get_grp_mean(listings[['neighbourhood','price']])\n",
    "\n",
    "price_df.head(15).plot.bar(x = 'x', y = 'y', figsize = (12,6),color =colors)"
   ]
  },
  {
   "cell_type": "code",
   "execution_count": null,
   "metadata": {},
   "outputs": [],
   "source": []
  },
  {
   "cell_type": "markdown",
   "metadata": {},
   "source": [
    "# 4. What time of the year has highest rental prices?"
   ]
  },
  {
   "cell_type": "code",
   "execution_count": 96,
   "metadata": {},
   "outputs": [],
   "source": [
    "#utilizing calendar dataset to calculate check highest price for listings during which timeline\n",
    "\n",
    "calendar['date'] = pd.to_datetime(calendar['date'], infer_datetime_format= True)"
   ]
  },
  {
   "cell_type": "code",
   "execution_count": 108,
   "metadata": {},
   "outputs": [
    {
     "data": {
      "text/plain": [
       "[<matplotlib.lines.Line2D at 0x7fab64835910>]"
      ]
     },
     "execution_count": 108,
     "metadata": {},
     "output_type": "execute_result"
    },
    {
     "data": {
      "image/png": "[encoded data removed]",
      "text/plain": [
       "<Figure size 1080x576 with 1 Axes>"
      ]
     },
     "metadata": {
      "needs_background": "light"
     },
     "output_type": "display_data"
    }
   ],
   "source": [
    "timeln = get_grp_mean(calendar[['date','price']])\n",
    "\n",
    "timeln = timeline.sort_values(by='x', ascending=True)\n",
    "\n",
    "plt.figure(figsize=(15,8))\n",
    "plt.plot(timeln['x'],timeline['y'])"
   ]
  },
  {
   "cell_type": "markdown",
   "metadata": {},
   "source": []
  },
  {
   "cell_type": "markdown",
   "metadata": {},
   "source": [
    "# Evaluation\n",
    "\n",
    "With above graphs we can infer:\n",
    "1. Buiksloterham is the neighborhood with highest price in Amsterdam.\n",
    "1. During July-2021 , listings are booked with highest price"
   ]
  },
  {
   "cell_type": "markdown",
   "metadata": {},
   "source": [
    "# Conclusion\n",
    "\n",
    "In this article, we tried answering questions with available datasets and utilizing libraries.\n",
    "\n",
    "To see more about this analysis, see the link to my medium post available [here](https://medium.com/@mail2swetharangu/amsterdam-airbnb-data-analysis-112fecf0f2b8)."
   ]
  },
  {
   "cell_type": "code",
   "execution_count": null,
   "metadata": {},
   "outputs": [],
   "source": []
  }
 ],
 "metadata": {
  "kernelspec": {
   "display_name": "Python 3",
   "language": "python",
   "name": "python3"
  },
  "language_info": {
   "codemirror_mode": {
    "name": "ipython",
    "version": 3
   },
   "file_extension": ".py",
   "mimetype": "text/x-python",
   "name": "python",
   "nbconvert_exporter": "python",
   "pygments_lexer": "ipython3",
   "version": "3.8.3"
  }
 },
 "nbformat": 4,
 "nbformat_minor": 4
}
