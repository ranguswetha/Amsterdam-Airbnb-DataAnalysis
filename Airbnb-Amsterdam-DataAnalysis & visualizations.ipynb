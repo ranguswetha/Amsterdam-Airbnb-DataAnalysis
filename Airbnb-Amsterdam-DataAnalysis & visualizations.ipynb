{
 "cells": [
  {
   "cell_type": "code",
   "execution_count": 53,
   "metadata": {},
   "outputs": [],
   "source": [
    "import numpy as np\n",
    "import pandas as pd"
   ]
  },
  {
   "cell_type": "code",
   "execution_count": 87,
   "metadata": {},
   "outputs": [],
   "source": [
    "#Read Listings CSV file into Dataframe\n",
    "\n",
    "listings = pd.read_csv(\"listings.csv\", low_memory= False)\n",
    "calendar = pd.read_csv(\"calendar.csv.gz\")"
   ]
  },
  {
   "cell_type": "code",
   "execution_count": 88,
   "metadata": {},
   "outputs": [
    {
     "data": {
      "text/html": [
       "<div>\n",
       "<style scoped>\n",
       "    .dataframe tbody tr th:only-of-type {\n",
       "        vertical-align: middle;\n",
       "    }\n",
       "\n",
       "    .dataframe tbody tr th {\n",
       "        vertical-align: top;\n",
       "    }\n",
       "\n",
       "    .dataframe thead th {\n",
       "        text-align: right;\n",
       "    }\n",
       "</style>\n",
       "<table border=\"1\" class=\"dataframe\">\n",
       "  <thead>\n",
       "    <tr style=\"text-align: right;\">\n",
       "      <th></th>\n",
       "      <th>id</th>\n",
       "      <th>listing_url</th>\n",
       "      <th>scrape_id</th>\n",
       "      <th>last_scraped</th>\n",
       "      <th>name</th>\n",
       "      <th>summary</th>\n",
       "      <th>space</th>\n",
       "      <th>description</th>\n",
       "      <th>experiences_offered</th>\n",
       "      <th>neighborhood_overview</th>\n",
       "      <th>...</th>\n",
       "      <th>instant_bookable</th>\n",
       "      <th>is_business_travel_ready</th>\n",
       "      <th>cancellation_policy</th>\n",
       "      <th>require_guest_profile_picture</th>\n",
       "      <th>require_guest_phone_verification</th>\n",
       "      <th>calculated_host_listings_count</th>\n",
       "      <th>calculated_host_listings_count_entire_homes</th>\n",
       "      <th>calculated_host_listings_count_private_rooms</th>\n",
       "      <th>calculated_host_listings_count_shared_rooms</th>\n",
       "      <th>reviews_per_month</th>\n",
       "    </tr>\n",
       "  </thead>\n",
       "  <tbody>\n",
       "    <tr>\n",
       "      <th>0</th>\n",
       "      <td>2818</td>\n",
       "      <td>https://www.airbnb.com/rooms/2818</td>\n",
       "      <td>20200709134403</td>\n",
       "      <td>2020-07-10</td>\n",
       "      <td>Quiet Garden View Room &amp; Super Fast WiFi</td>\n",
       "      <td>Quiet Garden View Room &amp; Super Fast WiFi</td>\n",
       "      <td>I'm renting a bedroom (room overlooking the ga...</td>\n",
       "      <td>Quiet Garden View Room &amp; Super Fast WiFi I'm r...</td>\n",
       "      <td>none</td>\n",
       "      <td>Indische Buurt (\"Indies Neighborhood\") is a ne...</td>\n",
       "      <td>...</td>\n",
       "      <td>t</td>\n",
       "      <td>f</td>\n",
       "      <td>strict_14_with_grace_period</td>\n",
       "      <td>f</td>\n",
       "      <td>f</td>\n",
       "      <td>1</td>\n",
       "      <td>0</td>\n",
       "      <td>1</td>\n",
       "      <td>0</td>\n",
       "      <td>2.02</td>\n",
       "    </tr>\n",
       "    <tr>\n",
       "      <th>1</th>\n",
       "      <td>20168</td>\n",
       "      <td>https://www.airbnb.com/rooms/20168</td>\n",
       "      <td>20200709134403</td>\n",
       "      <td>2020-07-10</td>\n",
       "      <td>Studio with private bathroom in the centre 1</td>\n",
       "      <td>17th century Dutch townhouse in the heart of t...</td>\n",
       "      <td>For those who like all facets of city life. In...</td>\n",
       "      <td>17th century Dutch townhouse in the heart of t...</td>\n",
       "      <td>none</td>\n",
       "      <td>Located just in between famous central canals....</td>\n",
       "      <td>...</td>\n",
       "      <td>t</td>\n",
       "      <td>f</td>\n",
       "      <td>strict_14_with_grace_period</td>\n",
       "      <td>f</td>\n",
       "      <td>f</td>\n",
       "      <td>2</td>\n",
       "      <td>0</td>\n",
       "      <td>2</td>\n",
       "      <td>0</td>\n",
       "      <td>2.70</td>\n",
       "    </tr>\n",
       "    <tr>\n",
       "      <th>2</th>\n",
       "      <td>25428</td>\n",
       "      <td>https://www.airbnb.com/rooms/25428</td>\n",
       "      <td>20200709134403</td>\n",
       "      <td>2020-07-10</td>\n",
       "      <td>Lovely apt in City Centre (w.lift) near Jordaan</td>\n",
       "      <td>Lovely apt in Centre ( lift &amp; fireplace) near ...</td>\n",
       "      <td>This nicely furnished, newly renovated apt  is...</td>\n",
       "      <td>Lovely apt in Centre ( lift &amp; fireplace) near ...</td>\n",
       "      <td>none</td>\n",
       "      <td>NaN</td>\n",
       "      <td>...</td>\n",
       "      <td>f</td>\n",
       "      <td>f</td>\n",
       "      <td>strict_14_with_grace_period</td>\n",
       "      <td>f</td>\n",
       "      <td>f</td>\n",
       "      <td>1</td>\n",
       "      <td>1</td>\n",
       "      <td>0</td>\n",
       "      <td>0</td>\n",
       "      <td>0.17</td>\n",
       "    </tr>\n",
       "    <tr>\n",
       "      <th>3</th>\n",
       "      <td>27886</td>\n",
       "      <td>https://www.airbnb.com/rooms/27886</td>\n",
       "      <td>20200709134403</td>\n",
       "      <td>2020-07-10</td>\n",
       "      <td>Romantic, stylish B&amp;B houseboat in canal district</td>\n",
       "      <td>Stylish and romantic houseboat on fantastic hi...</td>\n",
       "      <td>For a romantic couple: A beautifully restored ...</td>\n",
       "      <td>Stylish and romantic houseboat on fantastic hi...</td>\n",
       "      <td>none</td>\n",
       "      <td>Central, quiet, safe, clean and beautiful.</td>\n",
       "      <td>...</td>\n",
       "      <td>t</td>\n",
       "      <td>f</td>\n",
       "      <td>strict_14_with_grace_period</td>\n",
       "      <td>f</td>\n",
       "      <td>f</td>\n",
       "      <td>1</td>\n",
       "      <td>0</td>\n",
       "      <td>1</td>\n",
       "      <td>0</td>\n",
       "      <td>2.10</td>\n",
       "    </tr>\n",
       "    <tr>\n",
       "      <th>4</th>\n",
       "      <td>31080</td>\n",
       "      <td>https://www.airbnb.com/rooms/31080</td>\n",
       "      <td>20200709134403</td>\n",
       "      <td>2020-07-10</td>\n",
       "      <td>2-story apartment + rooftop terrace</td>\n",
       "      <td>NaN</td>\n",
       "      <td>My apartment is light and cosy.  The three bed...</td>\n",
       "      <td>My apartment is light and cosy.  The three bed...</td>\n",
       "      <td>none</td>\n",
       "      <td>NaN</td>\n",
       "      <td>...</td>\n",
       "      <td>f</td>\n",
       "      <td>f</td>\n",
       "      <td>moderate</td>\n",
       "      <td>f</td>\n",
       "      <td>f</td>\n",
       "      <td>1</td>\n",
       "      <td>1</td>\n",
       "      <td>0</td>\n",
       "      <td>0</td>\n",
       "      <td>0.29</td>\n",
       "    </tr>\n",
       "  </tbody>\n",
       "</table>\n",
       "<p>5 rows × 106 columns</p>\n",
       "</div>"
      ],
      "text/plain": [
       "      id                         listing_url       scrape_id last_scraped  \\\n",
       "0   2818   https://www.airbnb.com/rooms/2818  20200709134403   2020-07-10   \n",
       "1  20168  https://www.airbnb.com/rooms/20168  20200709134403   2020-07-10   \n",
       "2  25428  https://www.airbnb.com/rooms/25428  20200709134403   2020-07-10   \n",
       "3  27886  https://www.airbnb.com/rooms/27886  20200709134403   2020-07-10   \n",
       "4  31080  https://www.airbnb.com/rooms/31080  20200709134403   2020-07-10   \n",
       "\n",
       "                                                name  \\\n",
       "0           Quiet Garden View Room & Super Fast WiFi   \n",
       "1       Studio with private bathroom in the centre 1   \n",
       "2    Lovely apt in City Centre (w.lift) near Jordaan   \n",
       "3  Romantic, stylish B&B houseboat in canal district   \n",
       "4                2-story apartment + rooftop terrace   \n",
       "\n",
       "                                             summary  \\\n",
       "0           Quiet Garden View Room & Super Fast WiFi   \n",
       "1  17th century Dutch townhouse in the heart of t...   \n",
       "2  Lovely apt in Centre ( lift & fireplace) near ...   \n",
       "3  Stylish and romantic houseboat on fantastic hi...   \n",
       "4                                                NaN   \n",
       "\n",
       "                                               space  \\\n",
       "0  I'm renting a bedroom (room overlooking the ga...   \n",
       "1  For those who like all facets of city life. In...   \n",
       "2  This nicely furnished, newly renovated apt  is...   \n",
       "3  For a romantic couple: A beautifully restored ...   \n",
       "4  My apartment is light and cosy.  The three bed...   \n",
       "\n",
       "                                         description experiences_offered  \\\n",
       "0  Quiet Garden View Room & Super Fast WiFi I'm r...                none   \n",
       "1  17th century Dutch townhouse in the heart of t...                none   \n",
       "2  Lovely apt in Centre ( lift & fireplace) near ...                none   \n",
       "3  Stylish and romantic houseboat on fantastic hi...                none   \n",
       "4  My apartment is light and cosy.  The three bed...                none   \n",
       "\n",
       "                               neighborhood_overview  ... instant_bookable  \\\n",
       "0  Indische Buurt (\"Indies Neighborhood\") is a ne...  ...                t   \n",
       "1  Located just in between famous central canals....  ...                t   \n",
       "2                                                NaN  ...                f   \n",
       "3         Central, quiet, safe, clean and beautiful.  ...                t   \n",
       "4                                                NaN  ...                f   \n",
       "\n",
       "  is_business_travel_ready          cancellation_policy  \\\n",
       "0                        f  strict_14_with_grace_period   \n",
       "1                        f  strict_14_with_grace_period   \n",
       "2                        f  strict_14_with_grace_period   \n",
       "3                        f  strict_14_with_grace_period   \n",
       "4                        f                     moderate   \n",
       "\n",
       "  require_guest_profile_picture require_guest_phone_verification  \\\n",
       "0                             f                                f   \n",
       "1                             f                                f   \n",
       "2                             f                                f   \n",
       "3                             f                                f   \n",
       "4                             f                                f   \n",
       "\n",
       "   calculated_host_listings_count  \\\n",
       "0                               1   \n",
       "1                               2   \n",
       "2                               1   \n",
       "3                               1   \n",
       "4                               1   \n",
       "\n",
       "   calculated_host_listings_count_entire_homes  \\\n",
       "0                                            0   \n",
       "1                                            0   \n",
       "2                                            1   \n",
       "3                                            0   \n",
       "4                                            1   \n",
       "\n",
       "  calculated_host_listings_count_private_rooms  \\\n",
       "0                                            1   \n",
       "1                                            2   \n",
       "2                                            0   \n",
       "3                                            1   \n",
       "4                                            0   \n",
       "\n",
       "   calculated_host_listings_count_shared_rooms  reviews_per_month  \n",
       "0                                            0               2.02  \n",
       "1                                            0               2.70  \n",
       "2                                            0               0.17  \n",
       "3                                            0               2.10  \n",
       "4                                            0               0.29  \n",
       "\n",
       "[5 rows x 106 columns]"
      ]
     },
     "execution_count": 88,
     "metadata": {},
     "output_type": "execute_result"
    }
   ],
   "source": [
    "# To view data we are working with and understand shape properties\n",
    "\n",
    "listings.shape\n",
    "listings.head()"
   ]
  },
  {
   "cell_type": "markdown",
   "metadata": {},
   "source": [
    "# There are lot many other columns but i'm particularly interested in looking at bedrooms column and how they are related to price of the listings.\n",
    "# value_counts provides unique values available for each bedroom type"
   ]
  },
  {
   "cell_type": "code",
   "execution_count": 89,
   "metadata": {},
   "outputs": [
    {
     "data": {
      "text/plain": [
       "1.0     11537\n",
       "2.0      4641\n",
       "3.0      1639\n",
       "0.0      1018\n",
       "4.0       485\n",
       "5.0        78\n",
       "6.0        12\n",
       "12.0        6\n",
       "8.0         5\n",
       "7.0         3\n",
       "10.0        3\n",
       "9.0         3\n",
       "11.0        1\n",
       "Name: bedrooms, dtype: int64"
      ]
     },
     "execution_count": 89,
     "metadata": {},
     "output_type": "execute_result"
    }
   ],
   "source": [
    "bedrooms_val_counts = listings.bedrooms.value_counts()\n",
    "\n",
    "bedrooms_val_counts"
   ]
  },
  {
   "cell_type": "code",
   "execution_count": 90,
   "metadata": {},
   "outputs": [
    {
     "data": {
      "text/plain": [
       "<matplotlib.axes._subplots.AxesSubplot at 0x7ff301fc4e50>"
      ]
     },
     "execution_count": 90,
     "metadata": {},
     "output_type": "execute_result"
    },
    {
     "data": {
      "image/png": "[encoded data removed]",
      "text/plain": [
       "<Figure size 864x432 with 1 Axes>"
      ]
     },
     "metadata": {
      "needs_background": "light"
     },
     "output_type": "display_data"
    }
   ],
   "source": [
    "#we can bar chart them for better understanding.\n",
    "\n",
    "bedrooms_val_counts.sort_index().plot.bar(figsize = (12,6))"
   ]
  },
  {
   "cell_type": "code",
   "execution_count": 91,
   "metadata": {},
   "outputs": [
    {
     "data": {
      "text/html": [
       "<div>\n",
       "<style scoped>\n",
       "    .dataframe tbody tr th:only-of-type {\n",
       "        vertical-align: middle;\n",
       "    }\n",
       "\n",
       "    .dataframe tbody tr th {\n",
       "        vertical-align: top;\n",
       "    }\n",
       "\n",
       "    .dataframe thead th {\n",
       "        text-align: right;\n",
       "    }\n",
       "</style>\n",
       "<table border=\"1\" class=\"dataframe\">\n",
       "  <thead>\n",
       "    <tr style=\"text-align: right;\">\n",
       "      <th></th>\n",
       "      <th>count</th>\n",
       "      <th>mean</th>\n",
       "      <th>std</th>\n",
       "      <th>min</th>\n",
       "      <th>25%</th>\n",
       "      <th>50%</th>\n",
       "      <th>75%</th>\n",
       "      <th>max</th>\n",
       "    </tr>\n",
       "    <tr>\n",
       "      <th>bedrooms</th>\n",
       "      <th></th>\n",
       "      <th></th>\n",
       "      <th></th>\n",
       "      <th></th>\n",
       "      <th></th>\n",
       "      <th></th>\n",
       "      <th></th>\n",
       "      <th></th>\n",
       "    </tr>\n",
       "  </thead>\n",
       "  <tbody>\n",
       "    <tr>\n",
       "      <th>0.0</th>\n",
       "      <td>1018.0</td>\n",
       "      <td>122.829077</td>\n",
       "      <td>167.863386</td>\n",
       "      <td>25.0</td>\n",
       "      <td>85.00</td>\n",
       "      <td>100.0</td>\n",
       "      <td>135.00</td>\n",
       "      <td>5040.0</td>\n",
       "    </tr>\n",
       "    <tr>\n",
       "      <th>1.0</th>\n",
       "      <td>11537.0</td>\n",
       "      <td>136.985178</td>\n",
       "      <td>251.662779</td>\n",
       "      <td>5.0</td>\n",
       "      <td>89.00</td>\n",
       "      <td>117.0</td>\n",
       "      <td>150.00</td>\n",
       "      <td>9000.0</td>\n",
       "    </tr>\n",
       "    <tr>\n",
       "      <th>2.0</th>\n",
       "      <td>4641.0</td>\n",
       "      <td>197.770308</td>\n",
       "      <td>113.787589</td>\n",
       "      <td>9.0</td>\n",
       "      <td>130.00</td>\n",
       "      <td>175.0</td>\n",
       "      <td>240.00</td>\n",
       "      <td>2500.0</td>\n",
       "    </tr>\n",
       "    <tr>\n",
       "      <th>3.0</th>\n",
       "      <td>1639.0</td>\n",
       "      <td>237.748017</td>\n",
       "      <td>174.855944</td>\n",
       "      <td>42.0</td>\n",
       "      <td>150.00</td>\n",
       "      <td>200.0</td>\n",
       "      <td>275.00</td>\n",
       "      <td>4500.0</td>\n",
       "    </tr>\n",
       "    <tr>\n",
       "      <th>4.0</th>\n",
       "      <td>485.0</td>\n",
       "      <td>283.496907</td>\n",
       "      <td>158.094289</td>\n",
       "      <td>35.0</td>\n",
       "      <td>180.00</td>\n",
       "      <td>250.0</td>\n",
       "      <td>350.00</td>\n",
       "      <td>1150.0</td>\n",
       "    </tr>\n",
       "    <tr>\n",
       "      <th>5.0</th>\n",
       "      <td>78.0</td>\n",
       "      <td>401.128205</td>\n",
       "      <td>315.365727</td>\n",
       "      <td>89.0</td>\n",
       "      <td>200.00</td>\n",
       "      <td>322.5</td>\n",
       "      <td>468.75</td>\n",
       "      <td>2000.0</td>\n",
       "    </tr>\n",
       "    <tr>\n",
       "      <th>6.0</th>\n",
       "      <td>12.0</td>\n",
       "      <td>532.333333</td>\n",
       "      <td>304.952853</td>\n",
       "      <td>65.0</td>\n",
       "      <td>468.75</td>\n",
       "      <td>496.5</td>\n",
       "      <td>575.00</td>\n",
       "      <td>1300.0</td>\n",
       "    </tr>\n",
       "    <tr>\n",
       "      <th>7.0</th>\n",
       "      <td>3.0</td>\n",
       "      <td>433.000000</td>\n",
       "      <td>300.860433</td>\n",
       "      <td>124.0</td>\n",
       "      <td>287.00</td>\n",
       "      <td>450.0</td>\n",
       "      <td>587.50</td>\n",
       "      <td>725.0</td>\n",
       "    </tr>\n",
       "    <tr>\n",
       "      <th>8.0</th>\n",
       "      <td>5.0</td>\n",
       "      <td>520.000000</td>\n",
       "      <td>224.944438</td>\n",
       "      <td>300.0</td>\n",
       "      <td>440.00</td>\n",
       "      <td>480.0</td>\n",
       "      <td>480.00</td>\n",
       "      <td>900.0</td>\n",
       "    </tr>\n",
       "    <tr>\n",
       "      <th>9.0</th>\n",
       "      <td>3.0</td>\n",
       "      <td>368.000000</td>\n",
       "      <td>266.585821</td>\n",
       "      <td>62.0</td>\n",
       "      <td>277.00</td>\n",
       "      <td>492.0</td>\n",
       "      <td>521.00</td>\n",
       "      <td>550.0</td>\n",
       "    </tr>\n",
       "    <tr>\n",
       "      <th>10.0</th>\n",
       "      <td>3.0</td>\n",
       "      <td>548.000000</td>\n",
       "      <td>222.243110</td>\n",
       "      <td>380.0</td>\n",
       "      <td>422.00</td>\n",
       "      <td>464.0</td>\n",
       "      <td>632.00</td>\n",
       "      <td>800.0</td>\n",
       "    </tr>\n",
       "    <tr>\n",
       "      <th>11.0</th>\n",
       "      <td>1.0</td>\n",
       "      <td>200.000000</td>\n",
       "      <td>NaN</td>\n",
       "      <td>200.0</td>\n",
       "      <td>200.00</td>\n",
       "      <td>200.0</td>\n",
       "      <td>200.00</td>\n",
       "      <td>200.0</td>\n",
       "    </tr>\n",
       "    <tr>\n",
       "      <th>12.0</th>\n",
       "      <td>6.0</td>\n",
       "      <td>200.000000</td>\n",
       "      <td>293.938769</td>\n",
       "      <td>80.0</td>\n",
       "      <td>80.00</td>\n",
       "      <td>80.0</td>\n",
       "      <td>80.00</td>\n",
       "      <td>800.0</td>\n",
       "    </tr>\n",
       "  </tbody>\n",
       "</table>\n",
       "</div>"
      ],
      "text/plain": [
       "            count        mean         std    min     25%    50%     75%  \\\n",
       "bedrooms                                                                  \n",
       "0.0        1018.0  122.829077  167.863386   25.0   85.00  100.0  135.00   \n",
       "1.0       11537.0  136.985178  251.662779    5.0   89.00  117.0  150.00   \n",
       "2.0        4641.0  197.770308  113.787589    9.0  130.00  175.0  240.00   \n",
       "3.0        1639.0  237.748017  174.855944   42.0  150.00  200.0  275.00   \n",
       "4.0         485.0  283.496907  158.094289   35.0  180.00  250.0  350.00   \n",
       "5.0          78.0  401.128205  315.365727   89.0  200.00  322.5  468.75   \n",
       "6.0          12.0  532.333333  304.952853   65.0  468.75  496.5  575.00   \n",
       "7.0           3.0  433.000000  300.860433  124.0  287.00  450.0  587.50   \n",
       "8.0           5.0  520.000000  224.944438  300.0  440.00  480.0  480.00   \n",
       "9.0           3.0  368.000000  266.585821   62.0  277.00  492.0  521.00   \n",
       "10.0          3.0  548.000000  222.243110  380.0  422.00  464.0  632.00   \n",
       "11.0          1.0  200.000000         NaN  200.0  200.00  200.0  200.00   \n",
       "12.0          6.0  200.000000  293.938769   80.0   80.00   80.0   80.00   \n",
       "\n",
       "             max  \n",
       "bedrooms          \n",
       "0.0       5040.0  \n",
       "1.0       9000.0  \n",
       "2.0       2500.0  \n",
       "3.0       4500.0  \n",
       "4.0       1150.0  \n",
       "5.0       2000.0  \n",
       "6.0       1300.0  \n",
       "7.0        725.0  \n",
       "8.0        900.0  \n",
       "9.0        550.0  \n",
       "10.0       800.0  \n",
       "11.0       200.0  \n",
       "12.0       800.0  "
      ]
     },
     "execution_count": 91,
     "metadata": {},
     "output_type": "execute_result"
    }
   ],
   "source": [
    "#now lets look at how the listings with various bedroom counts are priced. we need to  remove '$' sign from price column and convert value to floats before performing any kind of comutations on the column.\n",
    "\n",
    "listings.price = listings.price.replace('[\\$,]','', regex= True).astype(float)\n",
    "\n",
    "#now price is usable to get a look on how they vary with number of bedrooms for a listing.\n",
    "\n",
    "bedrooms = listings.groupby('bedrooms')\n",
    "\n",
    "bedrooms[\"price\"].describe()"
   ]
  },
  {
   "cell_type": "code",
   "execution_count": 105,
   "metadata": {},
   "outputs": [],
   "source": [
    "# lets now look at bar chart of the average price of the listings grouped by bedroom"
   ]
  },
  {
   "cell_type": "code",
   "execution_count": 92,
   "metadata": {},
   "outputs": [
    {
     "data": {
      "image/png": "[encoded data removed]",
      "text/plain": [
       "<Figure size 864x432 with 1 Axes>"
      ]
     },
     "metadata": {
      "needs_background": "light"
     },
     "output_type": "display_data"
    }
   ],
   "source": [
    "import matplotlib.pyplot as plt\n",
    "\n",
    "N = 13\n",
    "cmap = plt.cm.tab10\n",
    "colors = cmap(np.arange(len(bedrooms)) % cmap.N)\n",
    "bedrooms.mean().plot.bar(y='price', figsize = (12,6),color= colors)\n",
    "\n",
    "plt.show()"
   ]
  },
  {
   "cell_type": "code",
   "execution_count": null,
   "metadata": {},
   "outputs": [],
   "source": [
    "# Graph looks okay but doesnt exactly follow our intuition about how price should go up with bedroom count. we can see that 0 bedroom (couldbe studio listings) have an average price that is almost equal to single bedroom listings.\n",
    "# studio listings being only lodges for single person so the prices for 1bedroom and Studios could almost be same.\n",
    "# Average price listed for 11BD is low and can be removed from analysis for better understanding as there is only one listing avaiable with 11BD."
   ]
  },
  {
   "cell_type": "code",
   "execution_count": 93,
   "metadata": {},
   "outputs": [
    {
     "data": {
      "text/plain": [
       "<matplotlib.axes._subplots.AxesSubplot at 0x7ff2668fa3d0>"
      ]
     },
     "execution_count": 93,
     "metadata": {},
     "output_type": "execute_result"
    },
    {
     "data": {
      "image/png": "[encoded data removed]",
      "text/plain": [
       "<Figure size 864x432 with 1 Axes>"
      ]
     },
     "metadata": {
      "needs_background": "light"
     },
     "output_type": "display_data"
    }
   ],
   "source": [
    "# Neighbourhoods with most number of reviews\n",
    "\n",
    "rev_df = listings.groupby(['neighbourhood']).number_of_reviews.mean()\n",
    "rev_df = rev_df.reset_index()\n",
    "rev_df = rev_df.sort_values('number_of_reviews', ascending=[0])\n",
    "\n",
    "rev_df.head(15).plot.bar(x = 'neighbourhood',\n",
    "                        y = 'number_of_reviews',\n",
    "                         figsize = (12,6),\n",
    "                        color =colors)"
   ]
  },
  {
   "cell_type": "markdown",
   "metadata": {},
   "source": [
    "# De Wallen and Amsterdam Centrum neighbourhoods got more number of reviews and looks like preferred by more number of users."
   ]
  },
  {
   "cell_type": "code",
   "execution_count": 103,
   "metadata": {},
   "outputs": [
    {
     "data": {
      "text/plain": [
       "<matplotlib.axes._subplots.AxesSubplot at 0x7ff2f9016d90>"
      ]
     },
     "execution_count": 103,
     "metadata": {},
     "output_type": "execute_result"
    },
    {
     "data": {
      "image/png": "[encoded data removed]",
      "text/plain": [
       "<Figure size 864x432 with 1 Axes>"
      ]
     },
     "metadata": {
      "needs_background": "light"
     },
     "output_type": "display_data"
    }
   ],
   "source": [
    "# Neighbourhoods with most number of reviews\n",
    "\n",
    "rev_df = listings.groupby(['neighbourhood']).price.mean()\n",
    "rev_df = rev_df.reset_index()\n",
    "rev_df = rev_df.sort_values('price', ascending=[0])\n",
    "\n",
    "rev_df.head(15).plot.bar(x = 'neighbourhood',\n",
    "                        y = 'price',\n",
    "                         figsize = (12,6),\n",
    "                        color =colors)\n"
   ]
  },
  {
   "cell_type": "markdown",
   "metadata": {},
   "source": [
    "# Amsterdam centrum neighbourhood has highest rental prices."
   ]
  },
  {
   "cell_type": "code",
   "execution_count": 94,
   "metadata": {},
   "outputs": [],
   "source": [
    "calendar['price'] = calendar.price.replace('[\\$,]','', regex= True).astype(float)\n",
    "calendar['date'] = pd.to_datetime(calendar['date'], infer_datetime_format= True)"
   ]
  },
  {
   "cell_type": "code",
   "execution_count": 95,
   "metadata": {},
   "outputs": [
    {
     "data": {
      "text/html": [
       "<div>\n",
       "<style scoped>\n",
       "    .dataframe tbody tr th:only-of-type {\n",
       "        vertical-align: middle;\n",
       "    }\n",
       "\n",
       "    .dataframe tbody tr th {\n",
       "        vertical-align: top;\n",
       "    }\n",
       "\n",
       "    .dataframe thead th {\n",
       "        text-align: right;\n",
       "    }\n",
       "</style>\n",
       "<table border=\"1\" class=\"dataframe\">\n",
       "  <thead>\n",
       "    <tr style=\"text-align: right;\">\n",
       "      <th></th>\n",
       "      <th>date</th>\n",
       "      <th>price</th>\n",
       "    </tr>\n",
       "  </thead>\n",
       "  <tbody>\n",
       "    <tr>\n",
       "      <th>0</th>\n",
       "      <td>2020-07-09</td>\n",
       "      <td>143.596718</td>\n",
       "    </tr>\n",
       "    <tr>\n",
       "      <th>1</th>\n",
       "      <td>2020-07-10</td>\n",
       "      <td>161.591538</td>\n",
       "    </tr>\n",
       "    <tr>\n",
       "      <th>2</th>\n",
       "      <td>2020-07-11</td>\n",
       "      <td>162.006331</td>\n",
       "    </tr>\n",
       "    <tr>\n",
       "      <th>3</th>\n",
       "      <td>2020-07-12</td>\n",
       "      <td>158.069793</td>\n",
       "    </tr>\n",
       "    <tr>\n",
       "      <th>4</th>\n",
       "      <td>2020-07-13</td>\n",
       "      <td>157.897421</td>\n",
       "    </tr>\n",
       "    <tr>\n",
       "      <th>...</th>\n",
       "      <td>...</td>\n",
       "      <td>...</td>\n",
       "    </tr>\n",
       "    <tr>\n",
       "      <th>378</th>\n",
       "      <td>2021-07-22</td>\n",
       "      <td>159.850000</td>\n",
       "    </tr>\n",
       "    <tr>\n",
       "      <th>379</th>\n",
       "      <td>2021-07-23</td>\n",
       "      <td>163.000000</td>\n",
       "    </tr>\n",
       "    <tr>\n",
       "      <th>380</th>\n",
       "      <td>2021-07-24</td>\n",
       "      <td>163.000000</td>\n",
       "    </tr>\n",
       "    <tr>\n",
       "      <th>381</th>\n",
       "      <td>2021-07-25</td>\n",
       "      <td>159.900000</td>\n",
       "    </tr>\n",
       "    <tr>\n",
       "      <th>382</th>\n",
       "      <td>2021-07-26</td>\n",
       "      <td>159.850000</td>\n",
       "    </tr>\n",
       "  </tbody>\n",
       "</table>\n",
       "<p>383 rows × 2 columns</p>\n",
       "</div>"
      ],
      "text/plain": [
       "          date       price\n",
       "0   2020-07-09  143.596718\n",
       "1   2020-07-10  161.591538\n",
       "2   2020-07-11  162.006331\n",
       "3   2020-07-12  158.069793\n",
       "4   2020-07-13  157.897421\n",
       "..         ...         ...\n",
       "378 2021-07-22  159.850000\n",
       "379 2021-07-23  163.000000\n",
       "380 2021-07-24  163.000000\n",
       "381 2021-07-25  159.900000\n",
       "382 2021-07-26  159.850000\n",
       "\n",
       "[383 rows x 2 columns]"
      ]
     },
     "execution_count": 95,
     "metadata": {},
     "output_type": "execute_result"
    }
   ],
   "source": [
    "timeline = calendar.groupby(['date']).price.mean()\n",
    "timeline = timeline.reset_index()\n",
    "timeline = timeline.sort_values(by='date', ascending=True)\n",
    "\n",
    "timeline"
   ]
  },
  {
   "cell_type": "code",
   "execution_count": 79,
   "metadata": {},
   "outputs": [
    {
     "data": {
      "text/plain": [
       "[<matplotlib.lines.Line2D at 0x7ff2f9f9f220>]"
      ]
     },
     "execution_count": 79,
     "metadata": {},
     "output_type": "execute_result"
    },
    {
     "data": {
      "image/png": "[encoded data removed]",
      "text/plain": [
       "<Figure size 1080x576 with 1 Axes>"
      ]
     },
     "metadata": {
      "needs_background": "light"
     },
     "output_type": "display_data"
    }
   ],
   "source": [
    "plt.figure(figsize=(15,8))\n",
    "plt.plot(timeline['date'],timeline['price'])"
   ]
  },
  {
   "cell_type": "markdown",
   "metadata": {},
   "source": [
    "# Timeline shows all listings booked and with highest price during time of the year Jul-2021"
   ]
  }
 ],
 "metadata": {
  "kernelspec": {
   "display_name": "Python 3",
   "language": "python",
   "name": "python3"
  },
  "language_info": {
   "codemirror_mode": {
    "name": "ipython",
    "version": 3
   },
   "file_extension": ".py",
   "mimetype": "text/x-python",
   "name": "python",
   "nbconvert_exporter": "python",
   "pygments_lexer": "ipython3",
   "version": "3.8.3"
  }
 },
 "nbformat": 4,
 "nbformat_minor": 4
}
